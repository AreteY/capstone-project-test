{
 "cells": [
  {
   "cell_type": "code",
   "execution_count": 1,
   "id": "eff0aec5",
   "metadata": {},
   "outputs": [],
   "source": [
    "# Import packages\n",
    "import os\n",
    "import sys\n",
    "\n",
    "import matplotlib.pyplot as plt\n",
    "import numpy as np\n",
    "import h5py\n",
    "import requests\n",
    "import geopandas as gpd\n",
    "import earthpy.plot as ep\n",
    "\n",
    "project_path = os.path.abspath(os.path.join('..'))\n",
    "#print(project_path)\n",
    "if project_path not in sys.path:\n",
    "    sys.path.append(project_path)\n",
    "\n",
    "import modules.reflectance as refl"
   ]
  },
  {
   "cell_type": "code",
   "execution_count": 2,
   "id": "5ab9b220",
   "metadata": {},
   "outputs": [],
   "source": [
    "# Get NEON reflectance data from NEON API\n",
    "# Endpoints are data product, site, date, and release year\n",
    "neon_base = \"https://data.neonscience.org/api/v0/data\"\n",
    "data_product = \"/DP3.30006.001\"\n",
    "site = \"/GRSM\"\n",
    "post_fire_release = \"/2017-10?package=basic&release=RELEASE-2022\"\n",
    "post_fire_url = neon_base + data_product + site + post_fire_release\n",
    "post_fire_data = requests.get(post_fire_url)\n",
    "\n",
    "# Similarly for the pre-fire data\n",
    "pre_fire_release = \"/2016-06?package=basic&release=RELEASE-2022\"\n",
    "pre_fire_url = neon_base + data_product + site + pre_fire_release\n",
    "pre_fire_data = requests.get(pre_fire_url)"
   ]
  },
  {
   "cell_type": "code",
   "execution_count": 3,
   "id": "8d973a2d",
   "metadata": {},
   "outputs": [],
   "source": [
    "# Define data directory and data paths\n",
    "data_dir = os.path.join(project_path, 'data')\n",
    "post_data_path = os.path.join(\n",
    "    data_dir, 'NEON_GRSM_274000_3947000_201710_reflectance.h5')\n",
    "pre_data_path = os.path.join(\n",
    "    data_dir, 'NEON_GRSM_274000_3947000_201606_reflectance.h5')\n",
    "\n",
    "# # Check if data directory exists\n",
    "# if not os.path.exists(data_dir):\n",
    "#     os.makedirs(data_dir)"
   ]
  },
  {
   "cell_type": "code",
   "execution_count": 4,
   "id": "25d7eefa",
   "metadata": {},
   "outputs": [
    {
     "name": "stdout",
     "output_type": "stream",
     "text": [
      "The data directory already exists!\n"
     ]
    }
   ],
   "source": [
    "# Check if data directory exists\n",
    "try:\n",
    "    os.makedirs(data_dir)\n",
    "    print('The data directory has been created!')\n",
    "except FileExistsError:\n",
    "    print('The data directory already exists!')\n",
    "except NameError:\n",
    "    print('Please check the name of the directory!')"
   ]
  },
  {
   "cell_type": "code",
   "execution_count": 5,
   "id": "bb1fca9e",
   "metadata": {},
   "outputs": [],
   "source": [
    "tile_url = (\n",
    "    'https://storage.googleapis.com/neon-aop-products/2017/FullSite/D07/'\n",
    "    '2017_GRSM_3/L3/Spectrometer/Reflectance/'\n",
    "    'NEON_D07_GRSM_DP3_272000_3952000_reflectance.h5')\n",
    "tile_path = os.path.join(\n",
    "    data_dir, 'NEON_D07_GRSM_DP3_272000_3952000_201710_reflectance.h5')\n",
    "tile_data = refl.download_file(tile_path, tile_url)"
   ]
  },
  {
   "cell_type": "code",
   "execution_count": 6,
   "id": "d1d34250",
   "metadata": {},
   "outputs": [],
   "source": [
    "tile_refl, tile_metadata = refl.aop_h5refl2array(tile_path)"
   ]
  },
  {
   "cell_type": "code",
   "execution_count": 7,
   "id": "e5c1741b",
   "metadata": {},
   "outputs": [],
   "source": [
    "tile_b58 = tile_refl[:,:,57].astype(float)"
   ]
  },
  {
   "cell_type": "code",
   "execution_count": null,
   "id": "983aeb57",
   "metadata": {},
   "outputs": [],
   "source": [
    "tile_plot = plt.imshow(tile_b58,extent=tile_metadata['extent'],cmap='Greys') "
   ]
  },
  {
   "cell_type": "code",
   "execution_count": null,
   "id": "e6f3a47f",
   "metadata": {},
   "outputs": [],
   "source": [
    "# Get NEON reflectance data\n",
    "post_url = (\n",
    "        'https://storage.googleapis.com/neon-aop-products/2017/FullSite/D07/'\n",
    "        '2017_GRSM_3/L3/Spectrometer/Reflectance/'\n",
    "        'NEON_D07_GRSM_DP3_274000_3947000_reflectance.h5')\n",
    "pre_url = (\n",
    "        'https://storage.googleapis.com/neon-aop-products/2016/FullSite/D07/'\n",
    "        '2016_GRSM_2/L3/Spectrometer/Reflectance/'\n",
    "        'NEON_D07_GRSM_DP3_274000_3947000_reflectance.h5')\n",
    "\n",
    "post_fire_data = refl.download_file(post_data_path, post_url)\n",
    "pre_fire_data = refl.download_file(pre_data_path, pre_url)\n",
    "# if not os.path.exists(post_data_path):\n",
    "#     # Download and save post-fire data if needed\n",
    "#     post_url = (\n",
    "#         'https://storage.googleapis.com/neon-aop-products/2017/FullSite/D07/'\n",
    "#         '2017_GRSM_3/L3/Spectrometer/Reflectance/'\n",
    "#         'NEON_D07_GRSM_DP3_274000_3947000_reflectance.h5')\n",
    "#     post_r = requests.get(post_url)\n",
    "#     with open(post_data_path, 'wb') as post_data_file:\n",
    "#         post_data_file.write(post_r.content)\n",
    "#         post_data = post_r.content\n",
    "# else:\n",
    "#     # Read post-fire data\n",
    "#     with open(post_data_path, 'rb') as post_data_file:\n",
    "#         post_data = post_data_file.read()"
   ]
  },
  {
   "cell_type": "code",
   "execution_count": null,
   "id": "2de263eb",
   "metadata": {},
   "outputs": [],
   "source": [
    "# # Get NEON pre-fire reflectance data\n",
    "# if not os.path.exists(pre_data_path):\n",
    "#     # Download and save pre-fire data if needed\n",
    "#     pre_url = (\n",
    "#         'https://storage.googleapis.com/neon-aop-products/2016/FullSite/D07/'\n",
    "#         '2016_GRSM_2/L3/Spectrometer/Reflectance/'\n",
    "#         'NEON_D07_GRSM_DP3_274000_3947000_reflectance.h5')\n",
    "#     pre_r = requests.get(pre_url)\n",
    "#     with open(pre_data_path, 'wb') as pre_data_file:\n",
    "#         pre_data_file.write(pre_r.content)\n",
    "#         pre_data = pre_r.content\n",
    "# else:\n",
    "#     # Read pre-fire data\n",
    "#     with open(pre_data_path, 'rb') as pre_data_file:\n",
    "#         pre_data = pre_data_file.read()"
   ]
  },
  {
   "cell_type": "code",
   "execution_count": null,
   "id": "ebc8db50",
   "metadata": {},
   "outputs": [],
   "source": [
    "post_fire_refl, post_fire_metadata = refl.aop_h5refl2array(post_data_path)\n",
    "pre_fire_refl, pre_fire_metadata = refl.aop_h5refl2array(pre_data_path)"
   ]
  },
  {
   "cell_type": "code",
   "execution_count": null,
   "id": "bc4ea7c3",
   "metadata": {},
   "outputs": [],
   "source": [
    "pre_fire_stack = refl.stack_subset_bands(\n",
    "    pre_fire_refl, pre_fire_metadata, (58, 84, 117, 400))"
   ]
  },
  {
   "cell_type": "code",
   "execution_count": null,
   "id": "887cc32e",
   "metadata": {},
   "outputs": [],
   "source": [
    "post_fire_stack = refl.stack_subset_bands(\n",
    "    post_fire_refl, post_fire_metadata, (58, 84, 117, 400))"
   ]
  },
  {
   "cell_type": "code",
   "execution_count": null,
   "id": "95c6958e",
   "metadata": {},
   "outputs": [],
   "source": [
    "# Calculate NBR\n",
    "post_fire_nbr = (\n",
    "    post_fire_stack[:, :, 2] - post_fire_stack[:, :, 3]) / (\n",
    "    post_fire_stack[:, :, 2] + post_fire_stack[:, :, 3])\n",
    "\n",
    "pre_fire_nbr = (\n",
    "    pre_fire_stack[:, :, 2] - pre_fire_stack[:, :, 3]) / (\n",
    "    pre_fire_stack[:, :, 2] + pre_fire_stack[:, :, 3])\n",
    "\n",
    "# Calculate dNBR\n",
    "dnbr = pre_fire_nbr - post_fire_nbr"
   ]
  },
  {
   "cell_type": "code",
   "execution_count": null,
   "id": "e6b6df8b",
   "metadata": {},
   "outputs": [],
   "source": [
    "# Plot dNBR\n",
    "fig, ax = plt.subplots(figsize=(12, 6))\n",
    "\n",
    "plot = plt.imshow(dnbr,\n",
    "                  extent=post_fire_metadata['extent'],\n",
    "                  cmap='PiYG')\n",
    "\n",
    "cbar = plt.colorbar(plot, aspect=40)\n",
    "cbar.set_label('Reflectance', rotation=90, labelpad=20)\n",
    "\n",
    "# Remove scientific notation from tile coordinates\n",
    "ax.ticklabel_format(useOffset=False, style='plain')\n",
    "\n",
    "ax.set(title='Chimney Tops 2 Fire dNBR\\n (June 2016-October 2017)',\n",
    "       xlabel='UTM easting (m)',\n",
    "       ylabel='UTM northing (m)')\n",
    "rotatexlabels = plt.setp(ax.get_xticklabels(), rotation=90)"
   ]
  },
  {
   "cell_type": "code",
   "execution_count": null,
   "id": "5f6ae303",
   "metadata": {},
   "outputs": [],
   "source": []
  }
 ],
 "metadata": {
  "kernelspec": {
   "display_name": "Python 3 (ipykernel)",
   "language": "python",
   "name": "python3"
  },
  "language_info": {
   "codemirror_mode": {
    "name": "ipython",
    "version": 3
   },
   "file_extension": ".py",
   "mimetype": "text/x-python",
   "name": "python",
   "nbconvert_exporter": "python",
   "pygments_lexer": "ipython3",
   "version": "3.8.13"
  }
 },
 "nbformat": 4,
 "nbformat_minor": 5
}
