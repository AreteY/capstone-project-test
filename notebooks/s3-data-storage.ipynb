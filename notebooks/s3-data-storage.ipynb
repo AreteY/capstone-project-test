{
 "cells": [
  {
   "cell_type": "code",
   "execution_count": 1,
   "id": "eff0aec5",
   "metadata": {},
   "outputs": [
    {
     "name": "stdout",
     "output_type": "stream",
     "text": [
      "/Users/yheidiyoon/earth-analytics/capstone-project-test\n"
     ]
    }
   ],
   "source": [
    "# Import packages\n",
    "import os\n",
    "import sys\n",
    "\n",
    "import matplotlib.pyplot as plt\n",
    "import numpy as np\n",
    "import h5py\n",
    "import requests\n",
    "import geopandas as gpd\n",
    "import earthpy as et\n",
    "import earthpy.plot as ep\n",
    "import earthpy.spatial as es\n",
    "\n",
    "module_path = os.path.abspath(os.path.join('..'))\n",
    "print(module_path)\n",
    "if module_path not in sys.path:\n",
    "    sys.path.append(module_path)\n",
    "    \n",
    "import modules.reflectance as refl"
   ]
  },
  {
   "cell_type": "code",
   "execution_count": 2,
   "id": "5ab9b220",
   "metadata": {},
   "outputs": [],
   "source": [
    "# Get NEON reflectance data from NEON API\n",
    "# Endpoints are data product, site, date, and release year\n",
    "neon_base = \"https://data.neonscience.org/api/v0/data\"\n",
    "data_product = \"/DP3.30006.001\"\n",
    "site = \"/GRSM\"\n",
    "post_fire_release = \"/2017-10?package=basic&release=RELEASE-2022\"\n",
    "post_fire_url = neon_base + data_product + site + post_fire_release\n",
    "post_fire_data = requests.get(post_fire_url)\n",
    "\n",
    "# Similarly for the pre-fire data\n",
    "pre_fire_release = \"/2016-06?package=basic&release=RELEASE-2022\"\n",
    "pre_fire_url = neon_base + data_product + site + pre_fire_release\n",
    "pre_fire_data = requests.get(pre_fire_url)"
   ]
  },
  {
   "cell_type": "code",
   "execution_count": 3,
   "id": "492e7773",
   "metadata": {},
   "outputs": [],
   "source": [
    "# Get NEON reflectance data\n",
    "post_fire_url = (\n",
    "    'https://storage.googleapis.com/neon-aop-products/2017/FullSite/D07/2017_GRSM_3/L3/Spectrometer/Reflectance/NEON_D07_GRSM_DP3_274000_3947000_reflectance.h5')\n",
    "pre_fire_url = (\n",
    "    'https://storage.googleapis.com/neon-aop-products/2016/FullSite/D07/2016_GRSM_2/L3/Spectrometer/Reflectance/NEON_D07_GRSM_DP3_274000_3947000_reflectance.h5')\n",
    "\n",
    "post_data = et.data.get_data(url=post_fire_url)\n",
    "pre_data = et.data.get_data(url=pre_fire_url)"
   ]
  },
  {
   "cell_type": "code",
   "execution_count": 4,
   "id": "8d973a2d",
   "metadata": {},
   "outputs": [],
   "source": [
    "#print(module_path)"
   ]
  },
  {
   "cell_type": "code",
   "execution_count": null,
   "id": "2de263eb",
   "metadata": {},
   "outputs": [],
   "source": []
  },
  {
   "cell_type": "code",
   "execution_count": 5,
   "id": "2a33878b",
   "metadata": {},
   "outputs": [],
   "source": [
    "# # Set working directory\n",
    "# os.chdir(os.path.join(\n",
    "#     et.io.HOME, 'earth-analytics', 'data', 'earthpy-downloads'))\n",
    "\n",
    "# Data paths\n",
    "#post_fire_path = os.path.join(et.io.HOME, 'earth-analytics', 'data', 'earthpy-downloads', 'NEON_D07_GRSM_DP3_274000_3947000_201710_reflectance.h5')\n",
    "#pre_fire_path = os.path.join(et.io.HOME, 'earth-analytics', 'data', 'earthpy-downloads', 'NEON_D07_GRSM_DP3_274000_3947000_201606_reflectance.h5')"
   ]
  },
  {
   "cell_type": "code",
   "execution_count": 6,
   "id": "ebc8db50",
   "metadata": {},
   "outputs": [],
   "source": [
    "post_fire_refl, post_fire_metadata = refl.aop_h5refl2array(post_data)\n",
    "pre_fire_refl, pre_fire_metadata = refl.aop_h5refl2array(pre_data)"
   ]
  },
  {
   "cell_type": "code",
   "execution_count": 7,
   "id": "bc4ea7c3",
   "metadata": {},
   "outputs": [],
   "source": [
    "pre_fire_stack = refl.stack_subset_bands(\n",
    "    pre_fire_refl, pre_fire_metadata, (58, 84, 117, 400))"
   ]
  },
  {
   "cell_type": "code",
   "execution_count": 8,
   "id": "887cc32e",
   "metadata": {},
   "outputs": [],
   "source": [
    "post_fire_stack = refl.stack_subset_bands(\n",
    "    post_fire_refl, post_fire_metadata, (58, 84, 117, 400))"
   ]
  },
  {
   "cell_type": "code",
   "execution_count": 9,
   "id": "95c6958e",
   "metadata": {},
   "outputs": [],
   "source": [
    "# Calculate NBR\n",
    "post_fire_nbr = (\n",
    "    post_fire_stack[:, :, 2] - post_fire_stack[:, :, 3]) / (\n",
    "    post_fire_stack[:, :, 2] + post_fire_stack[:, :, 3])\n",
    "\n",
    "pre_fire_nbr = (\n",
    "    pre_fire_stack[:, :, 2] - pre_fire_stack[:, :, 3]) / (\n",
    "    pre_fire_stack[:, :, 2] + pre_fire_stack[:, :, 3])\n",
    "\n",
    "# Calculate dNBR\n",
    "dnbr = pre_fire_nbr - post_fire_nbr"
   ]
  },
  {
   "cell_type": "code",
   "execution_count": null,
   "id": "e6b6df8b",
   "metadata": {},
   "outputs": [],
   "source": [
    "# Plot dNBR\n",
    "fig, ax = plt.subplots(figsize=(12, 6))\n",
    "\n",
    "plot = plt.imshow(dnbr,\n",
    "                  extent=post_fire_metadata['extent'],\n",
    "                  cmap='PiYG')\n",
    "\n",
    "cbar = plt.colorbar(plot, aspect=40)\n",
    "cbar.set_label('Reflectance', rotation=90, labelpad=20)\n",
    "\n",
    "# Remove scientific notation from tile coordinates\n",
    "ax.ticklabel_format(useOffset=False, style='plain')\n",
    "\n",
    "ax.set(title='Chimney Tops 2 Fire dNBR\\n (June 2016-October 2017)',\n",
    "       xlabel='UTM easting (m)',\n",
    "       ylabel='UTM northing (m)')\n",
    "rotatexlabels = plt.setp(ax.get_xticklabels(), rotation=90)"
   ]
  },
  {
   "cell_type": "code",
   "execution_count": null,
   "id": "5f6ae303",
   "metadata": {},
   "outputs": [],
   "source": []
  }
 ],
 "metadata": {
  "kernelspec": {
   "display_name": "Python 3 (ipykernel)",
   "language": "python",
   "name": "python3"
  },
  "language_info": {
   "codemirror_mode": {
    "name": "ipython",
    "version": 3
   },
   "file_extension": ".py",
   "mimetype": "text/x-python",
   "name": "python",
   "nbconvert_exporter": "python",
   "pygments_lexer": "ipython3",
   "version": "3.8.13"
  }
 },
 "nbformat": 4,
 "nbformat_minor": 5
}
